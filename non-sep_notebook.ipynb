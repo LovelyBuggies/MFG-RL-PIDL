{
 "cells": [
  {
   "cell_type": "code",
   "execution_count": null,
   "metadata": {
    "id": "OHlufzdGBsxJ"
   },
   "outputs": [],
   "source": [
    "import numpy as np\n",
    "import torch\n",
    "from torch import nn\n",
    "import csv\n",
    "import copy\n",
    "import pandas as pd\n",
    "import numpy as np\n",
    "import random\n",
    "import time\n",
    "import matplotlib.pyplot as plt\n",
    "from matplotlib import cm\n",
    "from matplotlib.ticker import LinearLocator, FormatStrFormatter\n",
    "from utils import get_rho_from_u, plot_3d, plot_diff, get_rho_network_from_u, get_rho_network_from_actor, train_actor_from_u, train_rho_network_n_step\n",
    "from model import Critic, RhoNetwork"
   ]
  },
  {
   "cell_type": "code",
   "execution_count": null,
   "metadata": {
    "id": "vba3p-CoEXQA"
   },
   "outputs": [],
   "source": [
    "n_cell = 8\n",
    "T_terminal = 1\n",
    "option = 'non-sep'\n",
    "d = np.loadtxt(f\"data/rho-{option}.txt\")[:, 0].flatten('F')"
   ]
  },
  {
   "cell_type": "code",
   "execution_count": null,
   "metadata": {
    "id": "DhRn-REGEMJG"
   },
   "outputs": [],
   "source": [
    "delta_T = 1 / n_cell\n",
    "T = int(T_terminal / delta_T)\n",
    "u_hist = [.5 * np.ones((n_cell, T))]\n",
    "rho_hist = [get_rho_from_u(u_hist[0], d)]\n",
    "u_loss_hist, rho_loss_hist = list(), list()\n",
    "u_gap_hist, rho_gap_hist = list(), list()\n",
    "u_res = np.loadtxt(f\"data/u-{option}.txt\")\n",
    "rho_res = np.loadtxt(f\"data/rho-{option}.txt\")\n",
    "\n",
    "rho = get_rho_from_u(u_hist[0], d)\n",
    "\n",
    "rho_network = RhoNetwork(2)\n",
    "rho_optimizer = torch.optim.Adam(rho_network.parameters(), lr=1e-3)\n",
    "rho_network = train_rho_network_n_step(n_cell, T_terminal, rho, rho_network, rho_optimizer, n_iterations=1)\n",
    "\n",
    "fake_critic = Critic(2) #train_critic_fake(n_cell, T_terminal, np.zeros((n_cell + 1, T + 1)))\n",
    "critic = Critic(2)\n",
    "critic_optimizer = torch.optim.Adam(critic.parameters(), lr=1e-3)"
   ]
  },
  {
   "cell_type": "code",
   "execution_count": null,
   "metadata": {
    "id": "N_KvIJajEi2D"
   },
   "outputs": [],
   "source": [
    "init_time = time.time()\n",
    "for it in range(300):\n",
    "    states = list()\n",
    "    truths = list()\n",
    "    u = np.ones((n_cell, T))\n",
    "    for i in range(n_cell + 1):\n",
    "        for t in range(T + 1):\n",
    "            states.append(np.array([i, t]) / n_cell)\n",
    "            if t == T:\n",
    "                truths.append(0)\n",
    "            else:\n",
    "                if i == n_cell:\n",
    "                    rho_i_t = float(rho_network.forward(np.array([0, t]) / n_cell))\n",
    "                    speed = min(max(float(critic(np.array([i, t + 1]) / n_cell) - critic(np.array([0, t + 1]) / n_cell)) / delta_T + 1 - rho_i_t,0),1)\n",
    "                    truths.append(delta_T * (0.5 * speed ** 2 + rho_i_t *speed  - speed) + fake_critic(\n",
    "                        np.array([speed, t + 1]) / n_cell))\n",
    "                else:\n",
    "                    rho_i_t = float(rho_network.forward(np.array([i, t]) / n_cell))\n",
    "                    speed = min(max(float(critic(np.array([i, t + 1]) / n_cell) - critic(np.array([i + 1, t + 1]) / n_cell)) / delta_T + 1 - rho_i_t,0),1)\n",
    "                    u[i, t] = speed\n",
    "                    truths.append(delta_T * (0.5 * speed ** 2 + rho_i_t*speed  - speed) + fake_critic(\n",
    "                        np.array([i + speed, t + 1]) / n_cell))\n",
    "                    \n",
    "\n",
    "    truths = torch.tensor(truths, requires_grad=True)\n",
    "    for c_it in range(100):\n",
    "        preds = torch.reshape(critic(np.array(states)), (1, len(truths)))\n",
    "        critic_loss = (truths - preds).abs().mean()\n",
    "        critic_optimizer.zero_grad()\n",
    "        critic_loss.backward()\n",
    "        critic_optimizer.step()\n",
    "\n",
    "    fake_critic = critic\n",
    "\n",
    "    u_hist.append(u)\n",
    "    u = np.array(u_hist).mean(axis=0)\n",
    "    rho = get_rho_from_u(u, d)\n",
    "    rho_hist.append(rho)\n",
    "    u_loss_hist.append(np.mean(abs(u - u_res)))\n",
    "    rho_loss_hist.append(np.mean(abs(rho - rho_res)))\n",
    "    u_gap_hist.append(np.mean(abs(u_hist[-1] - u_hist[-2])))\n",
    "    rho_gap_hist.append(np.mean(abs(rho_hist[-1] - rho_hist[-2])))\n",
    "\n",
    "    rho_network = get_rho_network_from_u(n_cell, T_terminal, u, d, rho_network, rho_optimizer, n_iterations=100)\n",
    "    if it % 20 == 0 and it > 0:\n",
    "        plot_3d(n_cell, T_terminal, u, \"u\", f\"./fig/u/{it}.pdf\")\n",
    "        plot_3d(n_cell, T_terminal, rho, r\"$\\rho$\", f\"./fig/rho/{it}.pdf\")\n",
    "\n",
    "print(time.time() - init_time)\n",
    "pd.DataFrame(u_gap_hist).to_csv(f\"./diff/u-gap-{option}.csv\")\n",
    "pd.DataFrame(rho_gap_hist).to_csv(f\"./diff/rho-gap-{option}.csv\")\n",
    "pd.DataFrame(u_loss_hist).to_csv(f\"./diff/u-loss-{option}.csv\")\n",
    "pd.DataFrame(rho_loss_hist).to_csv(f\"./diff/rho-loss-{option}.csv\")"
   ]
  },
  {
   "cell_type": "code",
   "execution_count": null,
   "metadata": {},
   "outputs": [],
   "source": []
  },
  {
   "cell_type": "code",
   "execution_count": null,
   "metadata": {},
   "outputs": [],
   "source": []
  }
 ],
 "metadata": {
  "colab": {
   "provenance": []
  },
  "kernelspec": {
   "display_name": "Python 3",
   "language": "python",
   "name": "python3"
  },
  "language_info": {
   "codemirror_mode": {
    "name": "ipython",
    "version": 3
   },
   "file_extension": ".py",
   "mimetype": "text/x-python",
   "name": "python",
   "nbconvert_exporter": "python",
   "pygments_lexer": "ipython3",
   "version": "3.8.8"
  }
 },
 "nbformat": 4,
 "nbformat_minor": 4
}
